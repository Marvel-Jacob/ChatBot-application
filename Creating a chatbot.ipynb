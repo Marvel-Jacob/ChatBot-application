{
 "cells": [
  {
   "cell_type": "code",
   "execution_count": 6,
   "metadata": {},
   "outputs": [
    {
     "name": "stderr",
     "output_type": "stream",
     "text": [
      ":0: UserWarning: You do not have a working installation of the service_identity module: 'No module named 'service_identity''.  Please install it from <https://pypi.python.org/pypi/service_identity> and make sure all of its dependencies are satisfied.  Without the service_identity module, Twisted can perform only rudimentary TLS client hostname verification.  Many valid certificate/hostname mappings may be rejected.\n"
     ]
    }
   ],
   "source": [
    "import spacy\n",
    "from rasa_nlu.training_data import load_data\n",
    "from rasa_nlu import config\n",
    "from rasa_nlu.model import Trainer,Interpreter\n",
    "\n",
    "from rasa_core import utils\n",
    "from rasa_core.agent import Agent\n",
    "from rasa_core.policies.keras_policy import KerasPolicy\n",
    "from rasa_core.policies.memoization import MemoizationPolicy"
   ]
  },
  {
   "cell_type": "code",
   "execution_count": 13,
   "metadata": {},
   "outputs": [
    {
     "name": "stdout",
     "output_type": "stream",
     "text": [
      "Writing 'intent_data' (str) to file 'data.md'.\n"
     ]
    }
   ],
   "source": [
    "intent_data=\"\"\"\n",
    "## intent: introduction\n",
    "-how are you?\n",
    "-howdy?\n",
    "-h r u?\n",
    "-hi\n",
    "-hey\n",
    "-hello\n",
    "\n",
    "## intent: ask_time\n",
    "-whats the time now\n",
    "-can you tell me the time\n",
    "-time now please?\n",
    "-tell me the tim now\n",
    "\n",
    "## intent: ask_weather\n",
    "-whats the temperature in Bangalore now\n",
    "-tell me the temperature in Bangalore now\n",
    "-how is the weather condition in Bangalore\n",
    "-can you tell me about the Bangalore weather condition\n",
    "\n",
    "## intent: ask_hashtags\n",
    "-whats are the trending hastags today\n",
    "-today trending hastags please\n",
    "-tell me what is trending today\n",
    "-list top 10 trending hashtags\n",
    "\"\"\"\n",
    "%store intent_data > data.md"
   ]
  },
  {
   "cell_type": "code",
   "execution_count": 9,
   "metadata": {},
   "outputs": [
    {
     "data": {
      "text/plain": [
       "<spacy.lang.en.English at 0x2589a212978>"
      ]
     },
     "execution_count": 9,
     "metadata": {},
     "output_type": "execute_result"
    }
   ],
   "source": [
    "spacy.load('en')"
   ]
  },
  {
   "cell_type": "code",
   "execution_count": 10,
   "metadata": {},
   "outputs": [
    {
     "name": "stdout",
     "output_type": "stream",
     "text": [
      "Writing 'setting' (str) to file 'setting.yml'.\n"
     ]
    }
   ],
   "source": [
    "setting=\"\"\"\n",
    "pipeline: spacy_sklearn\n",
    "\"\"\"\n",
    "\n",
    "%store setting > setting.yml"
   ]
  },
  {
   "cell_type": "code",
   "execution_count": 14,
   "metadata": {},
   "outputs": [
    {
     "name": "stdout",
     "output_type": "stream",
     "text": [
      "Fitting 2 folds for each of 6 candidates, totalling 12 fits\n"
     ]
    },
    {
     "name": "stderr",
     "output_type": "stream",
     "text": [
      "[Parallel(n_jobs=1)]: Using backend SequentialBackend with 1 concurrent workers.\n",
      "C:\\Users\\Administrator\\Anaconda3\\envs\\tensorflow_env\\lib\\site-packages\\sklearn\\metrics\\classification.py:1143: UndefinedMetricWarning: F-score is ill-defined and being set to 0.0 in labels with no predicted samples.\n",
      "  'precision', 'predicted', average, warn_for)\n",
      "C:\\Users\\Administrator\\Anaconda3\\envs\\tensorflow_env\\lib\\site-packages\\sklearn\\metrics\\classification.py:1143: UndefinedMetricWarning: F-score is ill-defined and being set to 0.0 in labels with no predicted samples.\n",
      "  'precision', 'predicted', average, warn_for)\n",
      "C:\\Users\\Administrator\\Anaconda3\\envs\\tensorflow_env\\lib\\site-packages\\sklearn\\metrics\\classification.py:1143: UndefinedMetricWarning: F-score is ill-defined and being set to 0.0 in labels with no predicted samples.\n",
      "  'precision', 'predicted', average, warn_for)\n",
      "C:\\Users\\Administrator\\Anaconda3\\envs\\tensorflow_env\\lib\\site-packages\\sklearn\\metrics\\classification.py:1143: UndefinedMetricWarning: F-score is ill-defined and being set to 0.0 in labels with no predicted samples.\n",
      "  'precision', 'predicted', average, warn_for)\n",
      "C:\\Users\\Administrator\\Anaconda3\\envs\\tensorflow_env\\lib\\site-packages\\sklearn\\metrics\\classification.py:1143: UndefinedMetricWarning: F-score is ill-defined and being set to 0.0 in labels with no predicted samples.\n",
      "  'precision', 'predicted', average, warn_for)\n",
      "C:\\Users\\Administrator\\Anaconda3\\envs\\tensorflow_env\\lib\\site-packages\\sklearn\\metrics\\classification.py:1143: UndefinedMetricWarning: F-score is ill-defined and being set to 0.0 in labels with no predicted samples.\n",
      "  'precision', 'predicted', average, warn_for)\n",
      "C:\\Users\\Administrator\\Anaconda3\\envs\\tensorflow_env\\lib\\site-packages\\sklearn\\metrics\\classification.py:1143: UndefinedMetricWarning: F-score is ill-defined and being set to 0.0 in labels with no predicted samples.\n",
      "  'precision', 'predicted', average, warn_for)\n",
      "C:\\Users\\Administrator\\Anaconda3\\envs\\tensorflow_env\\lib\\site-packages\\sklearn\\metrics\\classification.py:1143: UndefinedMetricWarning: F-score is ill-defined and being set to 0.0 in labels with no predicted samples.\n",
      "  'precision', 'predicted', average, warn_for)\n",
      "C:\\Users\\Administrator\\Anaconda3\\envs\\tensorflow_env\\lib\\site-packages\\sklearn\\metrics\\classification.py:1143: UndefinedMetricWarning: F-score is ill-defined and being set to 0.0 in labels with no predicted samples.\n",
      "  'precision', 'predicted', average, warn_for)\n",
      "C:\\Users\\Administrator\\Anaconda3\\envs\\tensorflow_env\\lib\\site-packages\\sklearn\\metrics\\classification.py:1143: UndefinedMetricWarning: F-score is ill-defined and being set to 0.0 in labels with no predicted samples.\n",
      "  'precision', 'predicted', average, warn_for)\n",
      "C:\\Users\\Administrator\\Anaconda3\\envs\\tensorflow_env\\lib\\site-packages\\sklearn\\metrics\\classification.py:1143: UndefinedMetricWarning: F-score is ill-defined and being set to 0.0 in labels with no predicted samples.\n",
      "  'precision', 'predicted', average, warn_for)\n",
      "C:\\Users\\Administrator\\Anaconda3\\envs\\tensorflow_env\\lib\\site-packages\\sklearn\\metrics\\classification.py:1143: UndefinedMetricWarning: F-score is ill-defined and being set to 0.0 in labels with no predicted samples.\n",
      "  'precision', 'predicted', average, warn_for)\n",
      "[Parallel(n_jobs=1)]: Done  12 out of  12 | elapsed:    0.0s finished\n"
     ]
    },
    {
     "data": {
      "text/plain": [
       "<rasa_nlu.model.Interpreter at 0x258a569b978>"
      ]
     },
     "execution_count": 14,
     "metadata": {},
     "output_type": "execute_result"
    }
   ],
   "source": [
    "trainer=Trainer(config.load('setting.yml'))\n",
    "training_data=load_data('data.md')\n",
    "trainer.train(training_data)"
   ]
  },
  {
   "cell_type": "code",
   "execution_count": 15,
   "metadata": {},
   "outputs": [],
   "source": [
    "model_directory=trainer.persist('models/',\n",
    "                               fixed_model_name='current')\n",
    "interpreter=Interpreter.load('models/default/current')"
   ]
  },
  {
   "cell_type": "code",
   "execution_count": 16,
   "metadata": {},
   "outputs": [
    {
     "data": {
      "text/plain": [
       "{'intent': {'name': 'introduction', 'confidence': 0.5791276384436458},\n",
       " 'entities': [],\n",
       " 'intent_ranking': [{'name': 'introduction', 'confidence': 0.5791276384436458},\n",
       "  {'name': 'ask_hashtags', 'confidence': 0.16865587224158804},\n",
       "  {'name': 'ask_time', 'confidence': 0.13447848759977216},\n",
       "  {'name': 'ask_weather', 'confidence': 0.11773800171499427}],\n",
       " 'text': 'h r u'}"
      ]
     },
     "execution_count": 16,
     "metadata": {},
     "output_type": "execute_result"
    }
   ],
   "source": [
    "interpreter.parse('h r u')"
   ]
  },
  {
   "cell_type": "markdown",
   "metadata": {},
   "source": [
    "#### for the reply"
   ]
  },
  {
   "cell_type": "code",
   "execution_count": 17,
   "metadata": {},
   "outputs": [
    {
     "name": "stdout",
     "output_type": "stream",
     "text": [
      "Writing 'domain_text' (str) to file 'domain.yml'.\n"
     ]
    }
   ],
   "source": [
    "domain_text=\"\"\"\n",
    "intents:\n",
    "-introduction\n",
    "-ask_time\n",
    "-ask_weather\n",
    "-ask_hashtags\n",
    "\n",
    "actions:\n",
    "-utter_introduce\n",
    "-utter_time\n",
    "-utter_weather\n",
    "-utter_hashtags\n",
    "\n",
    "templates:\n",
    "  utter_introduce:\n",
    "  -Welcome\n",
    "  -Hi, nice to meet you\n",
    "  -hello, hope you are doing good\n",
    "  utter_time:\n",
    "  -Your time is really bad\n",
    "  -Your time is really good\n",
    "  utter_weather:\n",
    "  -Its cloudy\n",
    "  -its sunny\n",
    "  -Why do you care\n",
    "  utter_hashtags:\n",
    "  -#IndvsAus,#WelcomeModi,#WelcomeAbhinandan\n",
    "  -#Womansday\n",
    "\"\"\"\n",
    "%store domain_text > domain.yml"
   ]
  },
  {
   "cell_type": "code",
   "execution_count": 26,
   "metadata": {},
   "outputs": [
    {
     "name": "stdout",
     "output_type": "stream",
     "text": [
      "Writing 'stories' (str) to file 'stories.md'.\n"
     ]
    }
   ],
   "source": [
    "stories=\"\"\"\n",
    "## introduce\n",
    "* introduction\n",
    "  -utter_introduce\n",
    "\n",
    "## Ask Time\n",
    "* ask_time\n",
    "  -utter_time\n",
    "\n",
    "## Ask Weather\n",
    "* ask_weather\n",
    "  -utter_weather\n",
    "\n",
    "## Ask hashtags\n",
    "* ask_hastags\n",
    "  -utter_hastags\n",
    "\"\"\"\n",
    "%store stories > stories.md"
   ]
  },
  {
   "cell_type": "code",
   "execution_count": null,
   "metadata": {},
   "outputs": [],
   "source": [
    "Under"
   ]
  },
  {
   "cell_type": "code",
   "execution_count": null,
   "metadata": {},
   "outputs": [],
   "source": [
    "domain_file='domain.yml'\n",
    "model_path='model/dialogue'\n",
    "training_data_file='stories.md'\n",
    "agent=Agent(domain_file,\n",
    "            policies=[MemoizationPolicy(max_history=3),KerasPolicy()])\n",
    "training_data=agent.load_data(training_data_file)\n",
    "agent.train(training_data)\n",
    "agent.persist(model_path)"
   ]
  },
  {
   "cell_type": "markdown",
   "metadata": {},
   "source": [
    "### or"
   ]
  },
  {
   "cell_type": "code",
   "execution_count": null,
   "metadata": {},
   "outputs": [],
   "source": [
    "from rasa_core import utils\n",
    "from rasa_core.agent import Agent\n",
    "from rasa_core.policies.keras_policy import KerasPolicy\n",
    "from rasa_core.policies.memoization import MemoizationPolicy\n",
    "\n",
    "domain_file=\"domain.yml\"\n",
    "model_path=\"models/dialogue\"\n",
    "training_data_file=\"stories.md\"    \n",
    "agent = Agent(\n",
    "    domain_file,\n",
    "    policies=[MemoizationPolicy(max_history=3), KerasPolicy()]\n",
    "    )\n",
    "training_data = agent.load_data(training_data_file)\n",
    "agent.train(\n",
    "    training_data,\n",
    "    epochs=400,\n",
    "    batch_size=100,\n",
    "    validation_split=0.2\n",
    "    )\n",
    "agent.persist(model_path)"
   ]
  },
  {
   "cell_type": "markdown",
   "metadata": {},
   "source": [
    "### Under Bot.py"
   ]
  },
  {
   "cell_type": "code",
   "execution_count": null,
   "metadata": {},
   "outputs": [],
   "source": [
    "from rasa_core import utils\n",
    "from rasa_core.agent import Agent\n",
    "from rasa_core.interpreter import RasaNLUInterpreter, NaturalLanguageInterpreter\n",
    "import rasa_core\n",
    "\n",
    "interpreter = RasaNLUInterpreter(\"models/default/current\")\n",
    "agent = Agent.load(\"models/dialogue\", interpreter=interpreter)\n",
    "\n",
    "def run(dbug=False):\n",
    "    if dbug:\n",
    "        init_debug_logging()\n",
    "    interpreter = NaturalLanguageInterpreter.create(\"models/default/current\")\n",
    "    from rasa_core.utils import EndpointConfig\n",
    "    action_endpoint = EndpointConfig(url=\"http://localhost:5056/webhook\")\n",
    "    agent = Agent.load(\"models/dialogue\", interpreter=interpreter,action_endpoint=action_endpoint)\n",
    "    rasa_core.run.serve_application(agent,channel='cmdline')\n",
    "run()"
   ]
  },
  {
   "cell_type": "code",
   "execution_count": null,
   "metadata": {},
   "outputs": [],
   "source": []
  },
  {
   "cell_type": "code",
   "execution_count": null,
   "metadata": {},
   "outputs": [],
   "source": []
  },
  {
   "cell_type": "code",
   "execution_count": null,
   "metadata": {},
   "outputs": [],
   "source": []
  },
  {
   "cell_type": "code",
   "execution_count": null,
   "metadata": {},
   "outputs": [],
   "source": []
  },
  {
   "cell_type": "code",
   "execution_count": null,
   "metadata": {},
   "outputs": [],
   "source": []
  },
  {
   "cell_type": "code",
   "execution_count": null,
   "metadata": {},
   "outputs": [],
   "source": []
  },
  {
   "cell_type": "code",
   "execution_count": null,
   "metadata": {},
   "outputs": [],
   "source": []
  },
  {
   "cell_type": "code",
   "execution_count": null,
   "metadata": {},
   "outputs": [],
   "source": []
  },
  {
   "cell_type": "code",
   "execution_count": null,
   "metadata": {},
   "outputs": [],
   "source": []
  },
  {
   "cell_type": "code",
   "execution_count": null,
   "metadata": {},
   "outputs": [],
   "source": []
  },
  {
   "cell_type": "code",
   "execution_count": null,
   "metadata": {},
   "outputs": [],
   "source": []
  },
  {
   "cell_type": "code",
   "execution_count": null,
   "metadata": {},
   "outputs": [],
   "source": []
  },
  {
   "cell_type": "code",
   "execution_count": null,
   "metadata": {},
   "outputs": [],
   "source": []
  },
  {
   "cell_type": "code",
   "execution_count": null,
   "metadata": {},
   "outputs": [],
   "source": []
  },
  {
   "cell_type": "code",
   "execution_count": null,
   "metadata": {},
   "outputs": [],
   "source": []
  },
  {
   "cell_type": "code",
   "execution_count": null,
   "metadata": {},
   "outputs": [],
   "source": []
  },
  {
   "cell_type": "code",
   "execution_count": null,
   "metadata": {},
   "outputs": [],
   "source": []
  },
  {
   "cell_type": "code",
   "execution_count": null,
   "metadata": {},
   "outputs": [],
   "source": []
  }
 ],
 "metadata": {
  "kernelspec": {
   "display_name": "Python 3",
   "language": "python",
   "name": "python3"
  },
  "language_info": {
   "codemirror_mode": {
    "name": "ipython",
    "version": 3
   },
   "file_extension": ".py",
   "mimetype": "text/x-python",
   "name": "python",
   "nbconvert_exporter": "python",
   "pygments_lexer": "ipython3",
   "version": "3.6.8"
  }
 },
 "nbformat": 4,
 "nbformat_minor": 2
}
